{
 "cells": [
  {
   "cell_type": "code",
   "execution_count": 1,
   "metadata": {},
   "outputs": [],
   "source": [
    "import turicreate as tc\n",
    "import matplotlib.pyplot as plt"
   ]
  },
  {
   "cell_type": "code",
   "execution_count": 2,
   "metadata": {},
   "outputs": [
    {
     "data": {
      "text/html": [
       "<pre>Unsupported colorspace format. Currently, only RGB and Grayscale are supported.\t file: Dataset/training/Peer/pear_060.jpg</pre>"
      ],
      "text/plain": [
       "Unsupported colorspace format. Currently, only RGB and Grayscale are supported.\t file: Dataset/training/Peer/pear_060.jpg"
      ]
     },
     "metadata": {},
     "output_type": "display_data"
    },
    {
     "data": {
      "text/html": [
       "<pre>Unexpected JPEG decode failure\t file: Dataset/training/Pen/pen_048.jpg</pre>"
      ],
      "text/plain": [
       "Unexpected JPEG decode failure\t file: Dataset/training/Pen/pen_048.jpg"
      ]
     },
     "metadata": {},
     "output_type": "display_data"
    },
    {
     "data": {
      "text/html": [
       "<pre>Unexpected JPEG decode failure\t file: Dataset/training/Pen/pen_070.jpg</pre>"
      ],
      "text/plain": [
       "Unexpected JPEG decode failure\t file: Dataset/training/Pen/pen_070.jpg"
      ]
     },
     "metadata": {},
     "output_type": "display_data"
    },
    {
     "data": {
      "text/html": [
       "<pre>Unexpected JPEG decode failure\t file: Dataset/training/Pen/pen_075.jpg</pre>"
      ],
      "text/plain": [
       "Unexpected JPEG decode failure\t file: Dataset/training/Pen/pen_075.jpg"
      ]
     },
     "metadata": {},
     "output_type": "display_data"
    },
    {
     "data": {
      "text/html": [
       "<pre>Unexpected JPEG decode failure\t file: Dataset/training/Pen/pen_076.jpg</pre>"
      ],
      "text/plain": [
       "Unexpected JPEG decode failure\t file: Dataset/training/Pen/pen_076.jpg"
      ]
     },
     "metadata": {},
     "output_type": "display_data"
    },
    {
     "data": {
      "text/html": [
       "<pre>Unsupported colorspace format. Currently, only RGB and Grayscale are supported.\t file: Dataset/training/Tafel/14443559552_89c59a16a4_b.jpg</pre>"
      ],
      "text/plain": [
       "Unsupported colorspace format. Currently, only RGB and Grayscale are supported.\t file: Dataset/training/Tafel/14443559552_89c59a16a4_b.jpg"
      ]
     },
     "metadata": {},
     "output_type": "display_data"
    },
    {
     "data": {
      "text/html": [
       "<pre>Unsupported colorspace format. Currently, only RGB and Grayscale are supported.\t file: Dataset/training/Tafel/3580056669_6b495366cc_b.jpg</pre>"
      ],
      "text/plain": [
       "Unsupported colorspace format. Currently, only RGB and Grayscale are supported.\t file: Dataset/training/Tafel/3580056669_6b495366cc_b.jpg"
      ]
     },
     "metadata": {},
     "output_type": "display_data"
    },
    {
     "data": {
      "text/html": [
       "<pre>Read 3040 images in 5.00059 secs\tspeed: 607.928 file/sec</pre>"
      ],
      "text/plain": [
       "Read 3040 images in 5.00059 secs\tspeed: 607.928 file/sec"
      ]
     },
     "metadata": {},
     "output_type": "display_data"
    }
   ],
   "source": [
    "train_data = tc.image_analysis.load_images(\"Dataset/training\", with_path=True)"
   ]
  },
  {
   "cell_type": "code",
   "execution_count": 3,
   "metadata": {},
   "outputs": [],
   "source": [
    "import os\n",
    "train_data[\"label\"] = train_data[\"path\"].apply(lambda path: \n",
    "                                               os.path.basename(os.path.split(path)[0]))"
   ]
  },
  {
   "cell_type": "code",
   "execution_count": 4,
   "metadata": {},
   "outputs": [
    {
     "name": "stdout",
     "output_type": "stream",
     "text": [
      "+-----------+-------+\n",
      "|   value   | count |\n",
      "+-----------+-------+\n",
      "|    Kat    |   81  |\n",
      "|   Fiets   |   80  |\n",
      "|  Oplader  |   80  |\n",
      "|    Kiwi   |   80  |\n",
      "|   Laptop  |   80  |\n",
      "|   Kussen  |   80  |\n",
      "|     TV    |   80  |\n",
      "|    Bal    |   80  |\n",
      "| Appelsien |   80  |\n",
      "|    Bril   |   80  |\n",
      "|   Koekje  |   80  |\n",
      "|   Schoen  |   80  |\n",
      "|    Hond   |   80  |\n",
      "|   Fruit   |   80  |\n",
      "|   Bakje   |   80  |\n",
      "|   Boeken  |   80  |\n",
      "|    Fles   |   80  |\n",
      "|    Foto   |   80  |\n",
      "|   Zetel   |   80  |\n",
      "|    Kop    |   80  |\n",
      "|    Lamp   |   80  |\n",
      "|    Bord   |   80  |\n",
      "|    Boek   |   80  |\n",
      "|   Bloem   |   80  |\n",
      "|    Glas   |   80  |\n",
      "|   Stoel   |   80  |\n",
      "|   Banaan  |   80  |\n",
      "|   Druif   |   80  |\n",
      "|    Vaas   |   80  |\n",
      "|    Peer   |   79  |\n",
      "|  Persoon  |   79  |\n",
      "|   Teddy   |   79  |\n",
      "|   Appel   |   79  |\n",
      "|   Plant   |   79  |\n",
      "|   Bumba   |   78  |\n",
      "|    GSM    |   78  |\n",
      "|   Tafel   |   78  |\n",
      "|    Klok   |   76  |\n",
      "|    Pen    |   76  |\n",
      "+-----------+-------+\n",
      "[39 rows x 2 columns]\n",
      "\n"
     ]
    },
    {
     "name": "stderr",
     "output_type": "stream",
     "text": [
      "/Users/Maxim/anaconda3/envs/turienv/lib/python3.7/site-packages/turicreate/aggregate.py:91: UserWarning: Passing parameter(s) to COUNT is deprecated. This functionality will be removed in the next major release. Any passed parameters are ignored.\n",
      "  warnings.warn('Passing parameter(s) to COUNT is deprecated. This functionality will be removed in '\n"
     ]
    }
   ],
   "source": [
    "train_data[\"label\"].value_counts().print_rows(num_rows=39)"
   ]
  },
  {
   "cell_type": "code",
   "execution_count": 5,
   "metadata": {},
   "outputs": [
    {
     "data": {
      "text/html": [
       "<pre>Analyzing and extracting image features.</pre>"
      ],
      "text/plain": [
       "Analyzing and extracting image features."
      ]
     },
     "metadata": {},
     "output_type": "display_data"
    },
    {
     "data": {
      "text/html": [
       "<pre>+------------------+--------------+------------------+</pre>"
      ],
      "text/plain": [
       "+------------------+--------------+------------------+"
      ]
     },
     "metadata": {},
     "output_type": "display_data"
    },
    {
     "data": {
      "text/html": [
       "<pre>| Images Processed | Elapsed Time | Percent Complete |</pre>"
      ],
      "text/plain": [
       "| Images Processed | Elapsed Time | Percent Complete |"
      ]
     },
     "metadata": {},
     "output_type": "display_data"
    },
    {
     "data": {
      "text/html": [
       "<pre>+------------------+--------------+------------------+</pre>"
      ],
      "text/plain": [
       "+------------------+--------------+------------------+"
      ]
     },
     "metadata": {},
     "output_type": "display_data"
    },
    {
     "data": {
      "text/html": [
       "<pre>| 64               | 1m 15s       | 2%               |</pre>"
      ],
      "text/plain": [
       "| 64               | 1m 15s       | 2%               |"
      ]
     },
     "metadata": {},
     "output_type": "display_data"
    },
    {
     "data": {
      "text/html": [
       "<pre>| 128              | 1m 15s       | 4%               |</pre>"
      ],
      "text/plain": [
       "| 128              | 1m 15s       | 4%               |"
      ]
     },
     "metadata": {},
     "output_type": "display_data"
    },
    {
     "data": {
      "text/html": [
       "<pre>| 192              | 1m 15s       | 6%               |</pre>"
      ],
      "text/plain": [
       "| 192              | 1m 15s       | 6%               |"
      ]
     },
     "metadata": {},
     "output_type": "display_data"
    },
    {
     "data": {
      "text/html": [
       "<pre>| 256              | 1m 15s       | 8%               |</pre>"
      ],
      "text/plain": [
       "| 256              | 1m 15s       | 8%               |"
      ]
     },
     "metadata": {},
     "output_type": "display_data"
    },
    {
     "data": {
      "text/html": [
       "<pre>| 320              | 1m 15s       | 10%              |</pre>"
      ],
      "text/plain": [
       "| 320              | 1m 15s       | 10%              |"
      ]
     },
     "metadata": {},
     "output_type": "display_data"
    },
    {
     "data": {
      "text/html": [
       "<pre>| 640              | 2m 1s        | 20.25%           |</pre>"
      ],
      "text/plain": [
       "| 640              | 2m 1s        | 20.25%           |"
      ]
     },
     "metadata": {},
     "output_type": "display_data"
    },
    {
     "data": {
      "text/html": [
       "<pre>| 3102             | 5m 17s       | 100%             |</pre>"
      ],
      "text/plain": [
       "| 3102             | 5m 17s       | 100%             |"
      ]
     },
     "metadata": {},
     "output_type": "display_data"
    },
    {
     "data": {
      "text/html": [
       "<pre>+------------------+--------------+------------------+</pre>"
      ],
      "text/plain": [
       "+------------------+--------------+------------------+"
      ]
     },
     "metadata": {},
     "output_type": "display_data"
    },
    {
     "name": "stdout",
     "output_type": "stream",
     "text": [
      "PROGRESS: Creating a validation set from 5 percent of training data. This may take a while.\n",
      "          You can set ``validation_set=None`` to disable validation tracking.\n",
      "\n"
     ]
    },
    {
     "data": {
      "text/html": [
       "<pre>Logistic regression:</pre>"
      ],
      "text/plain": [
       "Logistic regression:"
      ]
     },
     "metadata": {},
     "output_type": "display_data"
    },
    {
     "data": {
      "text/html": [
       "<pre>--------------------------------------------------------</pre>"
      ],
      "text/plain": [
       "--------------------------------------------------------"
      ]
     },
     "metadata": {},
     "output_type": "display_data"
    },
    {
     "data": {
      "text/html": [
       "<pre>Number of examples          : 2946</pre>"
      ],
      "text/plain": [
       "Number of examples          : 2946"
      ]
     },
     "metadata": {},
     "output_type": "display_data"
    },
    {
     "data": {
      "text/html": [
       "<pre>Number of classes           : 39</pre>"
      ],
      "text/plain": [
       "Number of classes           : 39"
      ]
     },
     "metadata": {},
     "output_type": "display_data"
    },
    {
     "data": {
      "text/html": [
       "<pre>Number of feature columns   : 1</pre>"
      ],
      "text/plain": [
       "Number of feature columns   : 1"
      ]
     },
     "metadata": {},
     "output_type": "display_data"
    },
    {
     "data": {
      "text/html": [
       "<pre>Number of unpacked features : 2048</pre>"
      ],
      "text/plain": [
       "Number of unpacked features : 2048"
      ]
     },
     "metadata": {},
     "output_type": "display_data"
    },
    {
     "data": {
      "text/html": [
       "<pre>Number of coefficients      : 77862</pre>"
      ],
      "text/plain": [
       "Number of coefficients      : 77862"
      ]
     },
     "metadata": {},
     "output_type": "display_data"
    },
    {
     "data": {
      "text/html": [
       "<pre>Starting L-BFGS</pre>"
      ],
      "text/plain": [
       "Starting L-BFGS"
      ]
     },
     "metadata": {},
     "output_type": "display_data"
    },
    {
     "data": {
      "text/html": [
       "<pre>--------------------------------------------------------</pre>"
      ],
      "text/plain": [
       "--------------------------------------------------------"
      ]
     },
     "metadata": {},
     "output_type": "display_data"
    },
    {
     "data": {
      "text/html": [
       "<pre>+-----------+----------+-----------+--------------+-------------------+---------------------+</pre>"
      ],
      "text/plain": [
       "+-----------+----------+-----------+--------------+-------------------+---------------------+"
      ]
     },
     "metadata": {},
     "output_type": "display_data"
    },
    {
     "data": {
      "text/html": [
       "<pre>| Iteration | Passes   | Step size | Elapsed Time | Training Accuracy | Validation Accuracy |</pre>"
      ],
      "text/plain": [
       "| Iteration | Passes   | Step size | Elapsed Time | Training Accuracy | Validation Accuracy |"
      ]
     },
     "metadata": {},
     "output_type": "display_data"
    },
    {
     "data": {
      "text/html": [
       "<pre>+-----------+----------+-----------+--------------+-------------------+---------------------+</pre>"
      ],
      "text/plain": [
       "+-----------+----------+-----------+--------------+-------------------+---------------------+"
      ]
     },
     "metadata": {},
     "output_type": "display_data"
    },
    {
     "data": {
      "text/html": [
       "<pre>| 0         | 2        | 1.000000  | 0.461555     | 0.751527          | 0.750000            |</pre>"
      ],
      "text/plain": [
       "| 0         | 2        | 1.000000  | 0.461555     | 0.751527          | 0.750000            |"
      ]
     },
     "metadata": {},
     "output_type": "display_data"
    },
    {
     "data": {
      "text/html": [
       "<pre>| 1         | 4        | 1.000000  | 1.144248     | 0.912084          | 0.935897            |</pre>"
      ],
      "text/plain": [
       "| 1         | 4        | 1.000000  | 1.144248     | 0.912084          | 0.935897            |"
      ]
     },
     "metadata": {},
     "output_type": "display_data"
    },
    {
     "data": {
      "text/html": [
       "<pre>| 2         | 5        | 1.000000  | 1.580582     | 0.889341          | 0.923077            |</pre>"
      ],
      "text/plain": [
       "| 2         | 5        | 1.000000  | 1.580582     | 0.889341          | 0.923077            |"
      ]
     },
     "metadata": {},
     "output_type": "display_data"
    },
    {
     "data": {
      "text/html": [
       "<pre>| 3         | 8        | 0.482031  | 2.463958     | 0.925322          | 0.935897            |</pre>"
      ],
      "text/plain": [
       "| 3         | 8        | 0.482031  | 2.463958     | 0.925322          | 0.935897            |"
      ]
     },
     "metadata": {},
     "output_type": "display_data"
    },
    {
     "data": {
      "text/html": [
       "<pre>| 4         | 10       | 0.482031  | 3.120910     | 0.929396          | 0.942308            |</pre>"
      ],
      "text/plain": [
       "| 4         | 10       | 0.482031  | 3.120910     | 0.929396          | 0.942308            |"
      ]
     },
     "metadata": {},
     "output_type": "display_data"
    },
    {
     "data": {
      "text/html": [
       "<pre>| 9         | 15       | 1.000000  | 5.284900     | 0.976918          | 0.961538            |</pre>"
      ],
      "text/plain": [
       "| 9         | 15       | 1.000000  | 5.284900     | 0.976918          | 0.961538            |"
      ]
     },
     "metadata": {},
     "output_type": "display_data"
    },
    {
     "data": {
      "text/html": [
       "<pre>+-----------+----------+-----------+--------------+-------------------+---------------------+</pre>"
      ],
      "text/plain": [
       "+-----------+----------+-----------+--------------+-------------------+---------------------+"
      ]
     },
     "metadata": {},
     "output_type": "display_data"
    }
   ],
   "source": [
    "model = tc.image_classifier.create(train_data, target=\"label\", \n",
    "                                   model=\"VisionFeaturePrint_Scene\",\n",
    "                                   verbose=True, max_iterations=10)"
   ]
  },
  {
   "cell_type": "code",
   "execution_count": 6,
   "metadata": {},
   "outputs": [
    {
     "data": {
      "text/html": [
       "<pre>Unexpected JPEG decode failure\t file: Dataset/testing/Pen/pen_095.jpg</pre>"
      ],
      "text/plain": [
       "Unexpected JPEG decode failure\t file: Dataset/testing/Pen/pen_095.jpg"
      ]
     },
     "metadata": {},
     "output_type": "display_data"
    }
   ],
   "source": [
    "test_data = tc.image_analysis.load_images(\"Dataset/testing\", with_path=True)\n",
    "\n",
    "test_data[\"label\"] = test_data[\"path\"].apply(lambda path: \n",
    "       os.path.basename(os.path.split(path)[0]))"
   ]
  },
  {
   "cell_type": "code",
   "execution_count": 7,
   "metadata": {},
   "outputs": [
    {
     "data": {
      "text/html": [
       "<pre>Analyzing and extracting image features.</pre>"
      ],
      "text/plain": [
       "Analyzing and extracting image features."
      ]
     },
     "metadata": {},
     "output_type": "display_data"
    },
    {
     "data": {
      "text/html": [
       "<pre>+------------------+--------------+------------------+</pre>"
      ],
      "text/plain": [
       "+------------------+--------------+------------------+"
      ]
     },
     "metadata": {},
     "output_type": "display_data"
    },
    {
     "data": {
      "text/html": [
       "<pre>| Images Processed | Elapsed Time | Percent Complete |</pre>"
      ],
      "text/plain": [
       "| Images Processed | Elapsed Time | Percent Complete |"
      ]
     },
     "metadata": {},
     "output_type": "display_data"
    },
    {
     "data": {
      "text/html": [
       "<pre>+------------------+--------------+------------------+</pre>"
      ],
      "text/plain": [
       "+------------------+--------------+------------------+"
      ]
     },
     "metadata": {},
     "output_type": "display_data"
    },
    {
     "data": {
      "text/html": [
       "<pre>| 64               | 45.18s       | 7.5%             |</pre>"
      ],
      "text/plain": [
       "| 64               | 45.18s       | 7.5%             |"
      ]
     },
     "metadata": {},
     "output_type": "display_data"
    },
    {
     "data": {
      "text/html": [
       "<pre>| 128              | 45.37s       | 15.25%           |</pre>"
      ],
      "text/plain": [
       "| 128              | 45.37s       | 15.25%           |"
      ]
     },
     "metadata": {},
     "output_type": "display_data"
    },
    {
     "data": {
      "text/html": [
       "<pre>| 192              | 46.77s       | 23%              |</pre>"
      ],
      "text/plain": [
       "| 192              | 46.77s       | 23%              |"
      ]
     },
     "metadata": {},
     "output_type": "display_data"
    },
    {
     "data": {
      "text/html": [
       "<pre>| 256              | 51.17s       | 30.75%           |</pre>"
      ],
      "text/plain": [
       "| 256              | 51.17s       | 30.75%           |"
      ]
     },
     "metadata": {},
     "output_type": "display_data"
    },
    {
     "data": {
      "text/html": [
       "<pre>| 320              | 51.54s       | 38.25%           |</pre>"
      ],
      "text/plain": [
       "| 320              | 51.54s       | 38.25%           |"
      ]
     },
     "metadata": {},
     "output_type": "display_data"
    },
    {
     "data": {
      "text/html": [
       "<pre>| 640              | 1m 13s       | 76.75%           |</pre>"
      ],
      "text/plain": [
       "| 640              | 1m 13s       | 76.75%           |"
      ]
     },
     "metadata": {},
     "output_type": "display_data"
    },
    {
     "data": {
      "text/html": [
       "<pre>| 780              | 1m 17s       | 100%             |</pre>"
      ],
      "text/plain": [
       "| 780              | 1m 17s       | 100%             |"
      ]
     },
     "metadata": {},
     "output_type": "display_data"
    },
    {
     "data": {
      "text/html": [
       "<pre>+------------------+--------------+------------------+</pre>"
      ],
      "text/plain": [
       "+------------------+--------------+------------------+"
      ]
     },
     "metadata": {},
     "output_type": "display_data"
    }
   ],
   "source": [
    "metrics = model.evaluate(test_data)"
   ]
  },
  {
   "cell_type": "code",
   "execution_count": 8,
   "metadata": {},
   "outputs": [
    {
     "name": "stdout",
     "output_type": "stream",
     "text": [
      "Accuracy:  0.9076923076923077\n",
      "Precision:  0.9120280939502908\n",
      "Recall:  0.907685881370092\n",
      "Confusion Matrix:\n",
      " +--------------+-----------------+-------+\n",
      "| target_label | predicted_label | count |\n",
      "+--------------+-----------------+-------+\n",
      "|    Bumba     |      Bumba      |   17  |\n",
      "|     Foto     |       Foto      |   17  |\n",
      "|    Bakje     |      Bakje      |   17  |\n",
      "|     Vaas     |       Vaas      |   20  |\n",
      "|     Bal      |       Bal       |   16  |\n",
      "|    Bloem     |      Bloem      |   19  |\n",
      "|    Bakje     |      Boeken     |   1   |\n",
      "|     Kiwi     |       Kiwi      |   20  |\n",
      "|   Oplader    |     Oplader     |   20  |\n",
      "|     Fles     |       Fles      |   19  |\n",
      "+--------------+-----------------+-------+\n",
      "[82 rows x 3 columns]\n",
      "Note: Only the head of the SFrame is printed.\n",
      "You can use print_rows(num_rows=m, num_columns=n) to print more rows and columns.\n"
     ]
    }
   ],
   "source": [
    "print(\"Accuracy: \", metrics[\"accuracy\"])\n",
    "print(\"Precision: \", metrics[\"precision\"])\n",
    "print(\"Recall: \", metrics[\"recall\"])\n",
    "print(\"Confusion Matrix:\\n\", metrics[\"confusion_matrix\"])"
   ]
  },
  {
   "cell_type": "code",
   "execution_count": 9,
   "metadata": {},
   "outputs": [
    {
     "data": {
      "text/plain": [
       "Class                                    : ImageClassifier\n",
       "\n",
       "Schema\n",
       "------\n",
       "Number of classes                        : 39\n",
       "Number of feature columns                : 1\n",
       "Input image shape                        : (3, 299, 299)\n",
       "\n",
       "Training summary\n",
       "----------------\n",
       "Number of examples                       : 2946\n",
       "Training loss                            : 352.3143\n",
       "Training time (sec)                      : 333.7123"
      ]
     },
     "execution_count": 9,
     "metadata": {},
     "output_type": "execute_result"
    }
   ],
   "source": [
    "model"
   ]
  },
  {
   "cell_type": "code",
   "execution_count": 10,
   "metadata": {},
   "outputs": [],
   "source": [
    "model.save(\"MyImageClassifier.model\")"
   ]
  },
  {
   "cell_type": "code",
   "execution_count": 11,
   "metadata": {},
   "outputs": [],
   "source": [
    "model.export_coreml(\"ImageClassifier.mlmodel\")"
   ]
  },
  {
   "cell_type": "code",
   "execution_count": null,
   "metadata": {},
   "outputs": [],
   "source": []
  }
 ],
 "metadata": {
  "kernelspec": {
   "display_name": "Python 3",
   "language": "python",
   "name": "python3"
  },
  "language_info": {
   "codemirror_mode": {
    "name": "ipython",
    "version": 3
   },
   "file_extension": ".py",
   "mimetype": "text/x-python",
   "name": "python",
   "nbconvert_exporter": "python",
   "pygments_lexer": "ipython3",
   "version": "3.7.4"
  }
 },
 "nbformat": 4,
 "nbformat_minor": 2
}
